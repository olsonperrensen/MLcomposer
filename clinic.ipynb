{
 "cells": [
  {
   "cell_type": "code",
   "execution_count": 2,
   "metadata": {},
   "outputs": [],
   "source": [
    "import shutil\n",
    "from zipfile import ZipFile as zf\n",
    "\n",
    "SEED = 101\n",
    "\n",
    "with zf('Clinic.zip','r') as zin:\n",
    "    zin.extractall()\n",
    "    shutil.rmtree('25yjwbphn4-1')"
   ]
  },
  {
   "cell_type": "code",
   "execution_count": 51,
   "metadata": {},
   "outputs": [],
   "source": [
    "import pandas as pd\n",
    "\n",
    "df = pd.read_csv('Dataset.csv')\n",
    "medications = pd.read_csv('Medicationkey.csv')\n",
    "\n",
    "medications.set_index('Medication', inplace=True)\n",
    "\n",
    "old_columns = medications.values.flatten()\n",
    "new_columns = medications.index\n",
    "\n",
    "for old, new in zip(old_columns, new_columns):\n",
    "    df.rename(columns={old: new}, inplace=True)"
   ]
  }
 ],
 "metadata": {
  "kernelspec": {
   "display_name": "base",
   "language": "python",
   "name": "python3"
  },
  "language_info": {
   "codemirror_mode": {
    "name": "ipython",
    "version": 3
   },
   "file_extension": ".py",
   "mimetype": "text/x-python",
   "name": "python",
   "nbconvert_exporter": "python",
   "pygments_lexer": "ipython3",
   "version": "3.10.9"
  },
  "orig_nbformat": 4
 },
 "nbformat": 4,
 "nbformat_minor": 2
}
