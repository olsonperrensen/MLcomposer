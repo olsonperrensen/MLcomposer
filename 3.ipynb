{
 "cells": [
  {
   "attachments": {},
   "cell_type": "markdown",
   "metadata": {},
   "source": [
    "#Info\n",
    "\n",
    "<span>Work by Maximiliano Iturria</span>\n",
    "\n",
    "v2\n",
    "The DOS header (also called the MS-DOS header) is a 64-byte-long structure that exists at the start of a PE file12. It’s not important for the functionality of PE files on modern Windows systems, however it’s there because of backward compatibility reasons12. This header makes the file an MS-DOS executable, so when it’s loaded on MS-DOS the DOS stub gets executed instead of the actual program2. Without this header, if you attempt to load the executable on MS-DOS it will not be loaded and will just produce a generic error2.\n",
    "\n",
    "It’s useful to know about the DOS header if you’re working with PE files or if you’re interested in understanding how executable files work on Windows systems. Is there anything else you’d like to know?\n",
    "\n",
    "<pre>Content\n",
    "\n",
    "The Dataset contains features extracted from malicious and non-malicious windows executable files.\n",
    "I have created this training file using hybrid features (binary hexadecimal + DLL calls) from windows executables.\n",
    "The file consist of total 373 samples of which 301 are malicious files while rest 72 are non-malicious.\n",
    "The dataset is imbalanced with malware samples more than regular samples.\n",
    "There are 531 features represented from F_1 all way to F_531 and a label column stating if the file is malicious or non-malicious.\n",
    "As representing binary hexadecimal feature names was difficult they have been represented as F_1, F_2,.. and so on, the same applies to DLL calls which are included in it. Some features out of 531 feature can be dropped as they hold very little importance, more to be explored as part of feature engineering.\n",
    "Column label would hold true value of the executable file if it was a malware or not.\n",
    "Acknowledgements\n",
    "\n",
    "The <a href='http://kaggle.com/datasets/piyushrumao/malware-executable-detection'>dataset</a> was been created based on following paper:\n",
    "Using Two Dimensional Hybrid Feature Dataset to Detect Malicious Executables\n",
    "\n",
    "Also can be found on UCI here:\n",
    "UCI Dataset on Malicious Executable Detection\n",
    "Inspiration\n",
    "\n",
    "Find out if downloaded executable is a malware, even before installing it which would minimize the harm caused by it to your system or personal files.\n",
    "I found very few datasets on malware analysis techniques which is the need of our hour, there is more work to be added in the one above for detecting zero day attacks. So I hope you encourage this work.</pre>"
   ]
  },
  {
   "cell_type": "code",
   "execution_count": 1,
   "metadata": {},
   "outputs": [],
   "source": [
    "from zipfile import ZipFile as zf\n",
    "\n",
    "SEED = 1\n",
    "\n",
    "with zf('set.zip','r') as zin:\n",
    "    zin.extractall()"
   ]
  },
  {
   "cell_type": "code",
   "execution_count": 2,
   "metadata": {},
   "outputs": [],
   "source": [
    "import pandas as pd\n",
    "\n",
    "df = pd.concat(map(pd.read_csv, ['dataset_malwares.csv', 'dataset_test.csv']))"
   ]
  },
  {
   "attachments": {},
   "cell_type": "markdown",
   "metadata": {},
   "source": [
    "Checking for NaN"
   ]
  },
  {
   "cell_type": "code",
   "execution_count": 3,
   "metadata": {},
   "outputs": [
    {
     "data": {
      "text/plain": [
       "Malware    17\n",
       "dtype: int64"
      ]
     },
     "execution_count": 3,
     "metadata": {},
     "output_type": "execute_result"
    }
   ],
   "source": [
    "df[df.columns[df.isnull().any()]].isnull().sum()"
   ]
  },
  {
   "cell_type": "code",
   "execution_count": 10,
   "metadata": {},
   "outputs": [
    {
     "data": {
      "text/html": [
       "<div>\n",
       "<style scoped>\n",
       "    .dataframe tbody tr th:only-of-type {\n",
       "        vertical-align: middle;\n",
       "    }\n",
       "\n",
       "    .dataframe tbody tr th {\n",
       "        vertical-align: top;\n",
       "    }\n",
       "\n",
       "    .dataframe thead th {\n",
       "        text-align: right;\n",
       "    }\n",
       "</style>\n",
       "<table border=\"1\" class=\"dataframe\">\n",
       "  <thead>\n",
       "    <tr style=\"text-align: right;\">\n",
       "      <th></th>\n",
       "      <th>Name</th>\n",
       "      <th>e_magic</th>\n",
       "      <th>e_cblp</th>\n",
       "      <th>e_cp</th>\n",
       "      <th>e_crlc</th>\n",
       "      <th>e_cparhdr</th>\n",
       "      <th>e_minalloc</th>\n",
       "      <th>e_maxalloc</th>\n",
       "      <th>e_ss</th>\n",
       "      <th>e_sp</th>\n",
       "      <th>...</th>\n",
       "      <th>SectionMaxChar</th>\n",
       "      <th>SectionMainChar</th>\n",
       "      <th>DirectoryEntryImport</th>\n",
       "      <th>DirectoryEntryImportSize</th>\n",
       "      <th>DirectoryEntryExport</th>\n",
       "      <th>ImageDirectoryEntryExport</th>\n",
       "      <th>ImageDirectoryEntryImport</th>\n",
       "      <th>ImageDirectoryEntryResource</th>\n",
       "      <th>ImageDirectoryEntryException</th>\n",
       "      <th>ImageDirectoryEntrySecurity</th>\n",
       "    </tr>\n",
       "  </thead>\n",
       "  <tbody>\n",
       "    <tr>\n",
       "      <th>0</th>\n",
       "      <td>Skype-8.10.0.9.exe</td>\n",
       "      <td>23117</td>\n",
       "      <td>80</td>\n",
       "      <td>2</td>\n",
       "      <td>0</td>\n",
       "      <td>4</td>\n",
       "      <td>15</td>\n",
       "      <td>65535</td>\n",
       "      <td>0</td>\n",
       "      <td>184</td>\n",
       "      <td>...</td>\n",
       "      <td>3221225536</td>\n",
       "      <td>0</td>\n",
       "      <td>11</td>\n",
       "      <td>122</td>\n",
       "      <td>0</td>\n",
       "      <td>0</td>\n",
       "      <td>102400</td>\n",
       "      <td>114688</td>\n",
       "      <td>0</td>\n",
       "      <td>53905336</td>\n",
       "    </tr>\n",
       "    <tr>\n",
       "      <th>1</th>\n",
       "      <td>vlc-3.0.2-win64.exe</td>\n",
       "      <td>23117</td>\n",
       "      <td>144</td>\n",
       "      <td>3</td>\n",
       "      <td>0</td>\n",
       "      <td>4</td>\n",
       "      <td>0</td>\n",
       "      <td>65535</td>\n",
       "      <td>0</td>\n",
       "      <td>184</td>\n",
       "      <td>...</td>\n",
       "      <td>3227517056</td>\n",
       "      <td>0</td>\n",
       "      <td>7</td>\n",
       "      <td>165</td>\n",
       "      <td>0</td>\n",
       "      <td>0</td>\n",
       "      <td>208896</td>\n",
       "      <td>430080</td>\n",
       "      <td>0</td>\n",
       "      <td>40201272</td>\n",
       "    </tr>\n",
       "    <tr>\n",
       "      <th>2</th>\n",
       "      <td>stinger32.exe</td>\n",
       "      <td>23117</td>\n",
       "      <td>64</td>\n",
       "      <td>1</td>\n",
       "      <td>0</td>\n",
       "      <td>2</td>\n",
       "      <td>0</td>\n",
       "      <td>65535</td>\n",
       "      <td>0</td>\n",
       "      <td>184</td>\n",
       "      <td>...</td>\n",
       "      <td>3758096608</td>\n",
       "      <td>0</td>\n",
       "      <td>1</td>\n",
       "      <td>2</td>\n",
       "      <td>7</td>\n",
       "      <td>36339712</td>\n",
       "      <td>36339976</td>\n",
       "      <td>36343808</td>\n",
       "      <td>0</td>\n",
       "      <td>16478208</td>\n",
       "    </tr>\n",
       "    <tr>\n",
       "      <th>3</th>\n",
       "      <td>SpotifyFullSetup.exe</td>\n",
       "      <td>23117</td>\n",
       "      <td>144</td>\n",
       "      <td>3</td>\n",
       "      <td>0</td>\n",
       "      <td>4</td>\n",
       "      <td>0</td>\n",
       "      <td>65535</td>\n",
       "      <td>0</td>\n",
       "      <td>184</td>\n",
       "      <td>...</td>\n",
       "      <td>3221225536</td>\n",
       "      <td>0</td>\n",
       "      <td>8</td>\n",
       "      <td>159</td>\n",
       "      <td>0</td>\n",
       "      <td>0</td>\n",
       "      <td>634448</td>\n",
       "      <td>679936</td>\n",
       "      <td>0</td>\n",
       "      <td>63220064</td>\n",
       "    </tr>\n",
       "    <tr>\n",
       "      <th>4</th>\n",
       "      <td>uftp_english.exe</td>\n",
       "      <td>23117</td>\n",
       "      <td>144</td>\n",
       "      <td>3</td>\n",
       "      <td>0</td>\n",
       "      <td>4</td>\n",
       "      <td>0</td>\n",
       "      <td>65535</td>\n",
       "      <td>0</td>\n",
       "      <td>184</td>\n",
       "      <td>...</td>\n",
       "      <td>3221225536</td>\n",
       "      <td>0</td>\n",
       "      <td>4</td>\n",
       "      <td>92</td>\n",
       "      <td>0</td>\n",
       "      <td>0</td>\n",
       "      <td>38620</td>\n",
       "      <td>49152</td>\n",
       "      <td>0</td>\n",
       "      <td>35544576</td>\n",
       "    </tr>\n",
       "  </tbody>\n",
       "</table>\n",
       "<p>5 rows × 79 columns</p>\n",
       "</div>"
      ],
      "text/plain": [
       "                   Name  e_magic  e_cblp  e_cp  e_crlc  e_cparhdr  e_minalloc  \\\n",
       "0    Skype-8.10.0.9.exe    23117      80     2       0          4          15   \n",
       "1   vlc-3.0.2-win64.exe    23117     144     3       0          4           0   \n",
       "2         stinger32.exe    23117      64     1       0          2           0   \n",
       "3  SpotifyFullSetup.exe    23117     144     3       0          4           0   \n",
       "4      uftp_english.exe    23117     144     3       0          4           0   \n",
       "\n",
       "   e_maxalloc  e_ss  e_sp  ...  SectionMaxChar  SectionMainChar  \\\n",
       "0       65535     0   184  ...      3221225536                0   \n",
       "1       65535     0   184  ...      3227517056                0   \n",
       "2       65535     0   184  ...      3758096608                0   \n",
       "3       65535     0   184  ...      3221225536                0   \n",
       "4       65535     0   184  ...      3221225536                0   \n",
       "\n",
       "   DirectoryEntryImport  DirectoryEntryImportSize  DirectoryEntryExport  \\\n",
       "0                    11                       122                     0   \n",
       "1                     7                       165                     0   \n",
       "2                     1                         2                     7   \n",
       "3                     8                       159                     0   \n",
       "4                     4                        92                     0   \n",
       "\n",
       "   ImageDirectoryEntryExport  ImageDirectoryEntryImport  \\\n",
       "0                          0                     102400   \n",
       "1                          0                     208896   \n",
       "2                   36339712                   36339976   \n",
       "3                          0                     634448   \n",
       "4                          0                      38620   \n",
       "\n",
       "   ImageDirectoryEntryResource  ImageDirectoryEntryException  \\\n",
       "0                       114688                             0   \n",
       "1                       430080                             0   \n",
       "2                     36343808                             0   \n",
       "3                       679936                             0   \n",
       "4                        49152                             0   \n",
       "\n",
       "   ImageDirectoryEntrySecurity  \n",
       "0                     53905336  \n",
       "1                     40201272  \n",
       "2                     16478208  \n",
       "3                     63220064  \n",
       "4                     35544576  \n",
       "\n",
       "[5 rows x 79 columns]"
      ]
     },
     "execution_count": 10,
     "metadata": {},
     "output_type": "execute_result"
    }
   ],
   "source": [
    "df[df['Malware'].isnull()].head()"
   ]
  },
  {
   "cell_type": "code",
   "execution_count": 12,
   "metadata": {},
   "outputs": [],
   "source": [
    "df = df.fillna(0)\n",
    "df = df.set_index(['Name'])"
   ]
  },
  {
   "attachments": {},
   "cell_type": "markdown",
   "metadata": {},
   "source": [
    "A bit of Data Science (and visualization) before ML"
   ]
  },
  {
   "cell_type": "code",
   "execution_count": 16,
   "metadata": {},
   "outputs": [],
   "source": [
    "df['Malware'] = df['Malware'].map({1:'Malignant',0:'Benign'})"
   ]
  },
  {
   "cell_type": "code",
   "execution_count": 17,
   "metadata": {},
   "outputs": [
    {
     "data": {
      "text/html": [
       "<div>\n",
       "<style scoped>\n",
       "    .dataframe tbody tr th:only-of-type {\n",
       "        vertical-align: middle;\n",
       "    }\n",
       "\n",
       "    .dataframe tbody tr th {\n",
       "        vertical-align: top;\n",
       "    }\n",
       "\n",
       "    .dataframe thead th {\n",
       "        text-align: right;\n",
       "    }\n",
       "</style>\n",
       "<table border=\"1\" class=\"dataframe\">\n",
       "  <thead>\n",
       "    <tr style=\"text-align: right;\">\n",
       "      <th>Malware</th>\n",
       "      <th>Benign</th>\n",
       "      <th>Malignant</th>\n",
       "    </tr>\n",
       "  </thead>\n",
       "  <tbody>\n",
       "    <tr>\n",
       "      <th>e_magic</th>\n",
       "      <td>5029</td>\n",
       "      <td>14599</td>\n",
       "    </tr>\n",
       "    <tr>\n",
       "      <th>e_cblp</th>\n",
       "      <td>5029</td>\n",
       "      <td>14599</td>\n",
       "    </tr>\n",
       "    <tr>\n",
       "      <th>e_cp</th>\n",
       "      <td>5029</td>\n",
       "      <td>14599</td>\n",
       "    </tr>\n",
       "    <tr>\n",
       "      <th>e_crlc</th>\n",
       "      <td>5029</td>\n",
       "      <td>14599</td>\n",
       "    </tr>\n",
       "    <tr>\n",
       "      <th>e_cparhdr</th>\n",
       "      <td>5029</td>\n",
       "      <td>14599</td>\n",
       "    </tr>\n",
       "  </tbody>\n",
       "</table>\n",
       "</div>"
      ],
      "text/plain": [
       "Malware    Benign  Malignant\n",
       "e_magic      5029      14599\n",
       "e_cblp       5029      14599\n",
       "e_cp         5029      14599\n",
       "e_crlc       5029      14599\n",
       "e_cparhdr    5029      14599"
      ]
     },
     "execution_count": 17,
     "metadata": {},
     "output_type": "execute_result"
    }
   ],
   "source": [
    "df.groupby(['Malware']).count().transpose().head()"
   ]
  },
  {
   "cell_type": "code",
   "execution_count": 19,
   "metadata": {},
   "outputs": [
    {
     "data": {
      "text/plain": [
       "<seaborn.axisgrid.FacetGrid at 0x1d02597cdc0>"
      ]
     },
     "execution_count": 19,
     "metadata": {},
     "output_type": "execute_result"
    },
    {
     "data": {
      "image/png": "[encoded data removed]",
      "text/plain": [
       "<Figure size 500x500 with 1 Axes>"
      ]
     },
     "metadata": {},
     "output_type": "display_data"
    }
   ],
   "source": [
    "import matplotlib.pyplot as plt\n",
    "import seaborn as sns\n",
    "\n",
    "sns.displot(df['Malware'])"
   ]
  },
  {
   "attachments": {},
   "cell_type": "markdown",
   "metadata": {},
   "source": [
    "<p>As seen in the previous graph, we are dealing with imbalanced data.</p>"
   ]
  },
  {
   "cell_type": "code",
   "execution_count": 30,
   "metadata": {},
   "outputs": [],
   "source": [
    "from sklearn.model_selection import train_test_split\n",
    "\n",
    "# Set our axes\n",
    "X = df.drop('Malware',axis=1)\n",
    "y = df['Malware']"
   ]
  },
  {
   "attachments": {},
   "cell_type": "markdown",
   "metadata": {},
   "source": [
    "Preprocessing\n",
    "\n",
    "<ul>\n",
    "<li>We need to do normalization since our values are represented in different scales</li>\n",
    "</ul>"
   ]
  },
  {
   "cell_type": "code",
   "execution_count": 35,
   "metadata": {},
   "outputs": [],
   "source": [
    "from sklearn.preprocessing import MinMaxScaler\n",
    "\n",
    "X = MinMaxScaler().fit_transform(X)"
   ]
  },
  {
   "cell_type": "code",
   "execution_count": 36,
   "metadata": {},
   "outputs": [
    {
     "data": {
      "text/plain": [
       "(15898, 1767, 1963)"
      ]
     },
     "execution_count": 36,
     "metadata": {},
     "output_type": "execute_result"
    }
   ],
   "source": [
    "# Splitting the data\n",
    "X_train,X_test,y_train,y_test = train_test_split(X,y,random_state=SEED,shuffle=True,test_size=0.1,stratify=y)\n",
    "X_train,X_val,y_train,y_val = train_test_split(X_train,y_train,random_state=SEED,shuffle=True,test_size=0.1,stratify=y_train)\n",
    "\n",
    "len(X_train),len(X_val),len(X_test)"
   ]
  },
  {
   "cell_type": "code",
   "execution_count": 43,
   "metadata": {},
   "outputs": [
    {
     "data": {
      "text/plain": [
       "0.9722693831352575"
      ]
     },
     "execution_count": 43,
     "metadata": {},
     "output_type": "execute_result"
    }
   ],
   "source": [
    "from sklearn.neighbors import KNeighborsClassifier\n",
    "\n",
    "clf = KNeighborsClassifier(n_neighbors=1)\n",
    "clf.fit(X_train,y_train)\n",
    "y_pred = clf.predict(X_val)\n",
    "clf.score(X_val,y_val)"
   ]
  },
  {
   "cell_type": "code",
   "execution_count": 46,
   "metadata": {},
   "outputs": [
    {
     "name": "stderr",
     "output_type": "stream",
     "text": [
      "c:\\Users\\W\\anaconda3\\lib\\site-packages\\sklearn\\neural_network\\_multilayer_perceptron.py:541: ConvergenceWarning: lbfgs failed to converge (status=1):\n",
      "STOP: TOTAL NO. of ITERATIONS REACHED LIMIT.\n",
      "\n",
      "Increase the number of iterations (max_iter) or scale the data as shown in:\n",
      "    https://scikit-learn.org/stable/modules/preprocessing.html\n",
      "  self.n_iter_ = _check_optimize_result(\"lbfgs\", opt_res, self.max_iter)\n"
     ]
    },
    {
     "data": {
      "text/plain": [
       "0.9349179400113187"
      ]
     },
     "execution_count": 46,
     "metadata": {},
     "output_type": "execute_result"
    }
   ],
   "source": [
    "from sklearn.neural_network import MLPClassifier\n",
    "\n",
    "clf = MLPClassifier(random_state=SEED,solver='lbfgs',max_iter=10,hidden_layer_sizes=9)\n",
    "clf.fit(X_train,y_train)\n",
    "y_pred = clf.predict(X_val)\n",
    "clf.score(X_val,y_val)"
   ]
  }
 ],
 "metadata": {
  "kernelspec": {
   "display_name": "base",
   "language": "python",
   "name": "python3"
  },
  "language_info": {
   "codemirror_mode": {
    "name": "ipython",
    "version": 3
   },
   "file_extension": ".py",
   "mimetype": "text/x-python",
   "name": "python",
   "nbconvert_exporter": "python",
   "pygments_lexer": "ipython3",
   "version": "3.10.9"
  },
  "orig_nbformat": 4,
  "vscode": {
   "interpreter": {
    "hash": "b997315ebe549fbadd4ccdc7fde469c27a54ecc57607da8da9055d639104e416"
   }
  }
 },
 "nbformat": 4,
 "nbformat_minor": 2
}
