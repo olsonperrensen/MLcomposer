{
 "cells": [
  {
   "attachments": {},
   "cell_type": "markdown",
   "metadata": {},
   "source": [
    "#Info\n",
    "\n",
    "<span>Work by Maximiliano Iturria</span>\n",
    "\n",
    "<pre>Content\n",
    "\n",
    "The Dataset contains features extracted from malicious and non-malicious windows executable files.\n",
    "I have created this training file using hybrid features (binary hexadecimal + DLL calls) from windows executables.\n",
    "The file consist of total 373 samples of which 301 are malicious files while rest 72 are non-malicious.\n",
    "The dataset is imbalanced with malware samples more than regular samples.\n",
    "There are 531 features represented from F_1 all way to F_531 and a label column stating if the file is malicious or non-malicious.\n",
    "As representing binary hexadecimal feature names was difficult they have been represented as F_1, F_2,.. and so on, the same applies to DLL calls which are included in it. Some features out of 531 feature can be dropped as they hold very little importance, more to be explored as part of feature engineering.\n",
    "Column label would hold true value of the executable file if it was a malware or not.\n",
    "Acknowledgements\n",
    "\n",
    "The <a href='http://kaggle.com/datasets/piyushrumao/malware-executable-detection'>dataset</a> was been created based on following paper:\n",
    "Using Two Dimensional Hybrid Feature Dataset to Detect Malicious Executables\n",
    "\n",
    "Also can be found on UCI here:\n",
    "UCI Dataset on Malicious Executable Detection\n",
    "Inspiration\n",
    "\n",
    "Find out if downloaded executable is a malware, even before installing it which would minimize the harm caused by it to your system or personal files.\n",
    "I found very few datasets on malware analysis techniques which is the need of our hour, there is more work to be added in the one above for detecting zero day attacks. So I hope you encourage this work.</pre>"
   ]
  },
  {
   "cell_type": "code",
   "execution_count": 116,
   "metadata": {},
   "outputs": [],
   "source": [
    "from zipfile import ZipFile as zf\n",
    "\n",
    "with zf('set.zip','r') as zin:\n",
    "    zin.extractall()"
   ]
  },
  {
   "cell_type": "code",
   "execution_count": 117,
   "metadata": {},
   "outputs": [],
   "source": [
    "import pandas as pd\n",
    "\n",
    "df = pd.read_csv('uci_malware_detection.csv')"
   ]
  },
  {
   "attachments": {},
   "cell_type": "markdown",
   "metadata": {},
   "source": [
    "Checking for NaN"
   ]
  },
  {
   "cell_type": "code",
   "execution_count": 118,
   "metadata": {},
   "outputs": [
    {
     "data": {
      "text/plain": [
       "Series([], dtype: float64)"
      ]
     },
     "execution_count": 118,
     "metadata": {},
     "output_type": "execute_result"
    }
   ],
   "source": [
    "df[df.columns[df.isnull().any()]].isnull().sum()"
   ]
  },
  {
   "attachments": {},
   "cell_type": "markdown",
   "metadata": {},
   "source": [
    "A bit of Data Science (and visualization) before ML"
   ]
  },
  {
   "cell_type": "code",
   "execution_count": 119,
   "metadata": {},
   "outputs": [
    {
     "data": {
      "text/html": [
       "<div>\n",
       "<style scoped>\n",
       "    .dataframe tbody tr th:only-of-type {\n",
       "        vertical-align: middle;\n",
       "    }\n",
       "\n",
       "    .dataframe tbody tr th {\n",
       "        vertical-align: top;\n",
       "    }\n",
       "\n",
       "    .dataframe thead th {\n",
       "        text-align: right;\n",
       "    }\n",
       "</style>\n",
       "<table border=\"1\" class=\"dataframe\">\n",
       "  <thead>\n",
       "    <tr style=\"text-align: right;\">\n",
       "      <th>Label</th>\n",
       "      <th>malicious</th>\n",
       "      <th>non-malicious</th>\n",
       "    </tr>\n",
       "  </thead>\n",
       "  <tbody>\n",
       "    <tr>\n",
       "      <th>F_1</th>\n",
       "      <td>301</td>\n",
       "      <td>72</td>\n",
       "    </tr>\n",
       "    <tr>\n",
       "      <th>F_2</th>\n",
       "      <td>301</td>\n",
       "      <td>72</td>\n",
       "    </tr>\n",
       "    <tr>\n",
       "      <th>F_3</th>\n",
       "      <td>301</td>\n",
       "      <td>72</td>\n",
       "    </tr>\n",
       "    <tr>\n",
       "      <th>F_4</th>\n",
       "      <td>301</td>\n",
       "      <td>72</td>\n",
       "    </tr>\n",
       "    <tr>\n",
       "      <th>F_5</th>\n",
       "      <td>301</td>\n",
       "      <td>72</td>\n",
       "    </tr>\n",
       "  </tbody>\n",
       "</table>\n",
       "</div>"
      ],
      "text/plain": [
       "Label  malicious  non-malicious\n",
       "F_1          301             72\n",
       "F_2          301             72\n",
       "F_3          301             72\n",
       "F_4          301             72\n",
       "F_5          301             72"
      ]
     },
     "execution_count": 119,
     "metadata": {},
     "output_type": "execute_result"
    }
   ],
   "source": [
    "df.groupby(['Label']).count().transpose().head()"
   ]
  },
  {
   "cell_type": "code",
   "execution_count": 120,
   "metadata": {},
   "outputs": [
    {
     "data": {
      "text/plain": [
       "<seaborn.axisgrid.FacetGrid at 0x1cdb9dd66b0>"
      ]
     },
     "execution_count": 120,
     "metadata": {},
     "output_type": "execute_result"
    },
    {
     "data": {
      "image/png": "[encoded data removed]",
      "text/plain": [
       "<Figure size 500x500 with 1 Axes>"
      ]
     },
     "metadata": {},
     "output_type": "display_data"
    }
   ],
   "source": [
    "import matplotlib.pyplot as plt\n",
    "import seaborn as sns\n",
    "\n",
    "sns.displot(df['Label'])"
   ]
  },
  {
   "attachments": {},
   "cell_type": "markdown",
   "metadata": {},
   "source": [
    "<p>As seen in the previous graph, we are dealing with imbalanced data.</p>\n",
    "<p>One way to solve this is by generating new sample points based on the SMOTE algorithm. </p>"
   ]
  },
  {
   "cell_type": "code",
   "execution_count": 121,
   "metadata": {},
   "outputs": [],
   "source": [
    "# Set our axes\n",
    "X = df.drop('Label',axis=1)\n",
    "y = df['Label']"
   ]
  },
  {
   "cell_type": "code",
   "execution_count": 122,
   "metadata": {},
   "outputs": [
    {
     "name": "stderr",
     "output_type": "stream",
     "text": [
      "C:\\Users\\W\\AppData\\Local\\Temp\\ipykernel_23088\\3576597677.py:9: PerformanceWarning: DataFrame is highly fragmented.  This is usually the result of calling `frame.insert` many times, which has poor performance.  Consider joining all columns at once using pd.concat(axis=1) instead. To get a de-fragmented frame, use `newframe = frame.copy()`\n",
      "  df['Label'] = label\n"
     ]
    }
   ],
   "source": [
    "from imblearn.over_sampling import SMOTE\n",
    "\n",
    "# Apply SMOTE to generate new samples\n",
    "X_resampled, y_resampled = SMOTE(random_state=42).fit_resample(X, y)\n",
    "\n",
    "# Convert back to pandas DataFrame and Series\n",
    "df = pd.DataFrame(X_resampled)\n",
    "label = pd.Series(y_resampled)\n",
    "df['Label'] = label"
   ]
  },
  {
   "cell_type": "code",
   "execution_count": 123,
   "metadata": {},
   "outputs": [
    {
     "data": {
      "text/html": [
       "<div>\n",
       "<style scoped>\n",
       "    .dataframe tbody tr th:only-of-type {\n",
       "        vertical-align: middle;\n",
       "    }\n",
       "\n",
       "    .dataframe tbody tr th {\n",
       "        vertical-align: top;\n",
       "    }\n",
       "\n",
       "    .dataframe thead th {\n",
       "        text-align: right;\n",
       "    }\n",
       "</style>\n",
       "<table border=\"1\" class=\"dataframe\">\n",
       "  <thead>\n",
       "    <tr style=\"text-align: right;\">\n",
       "      <th>Label</th>\n",
       "      <th>malicious</th>\n",
       "      <th>non-malicious</th>\n",
       "    </tr>\n",
       "  </thead>\n",
       "  <tbody>\n",
       "    <tr>\n",
       "      <th>F_1</th>\n",
       "      <td>301</td>\n",
       "      <td>301</td>\n",
       "    </tr>\n",
       "    <tr>\n",
       "      <th>F_2</th>\n",
       "      <td>301</td>\n",
       "      <td>301</td>\n",
       "    </tr>\n",
       "    <tr>\n",
       "      <th>F_3</th>\n",
       "      <td>301</td>\n",
       "      <td>301</td>\n",
       "    </tr>\n",
       "    <tr>\n",
       "      <th>F_4</th>\n",
       "      <td>301</td>\n",
       "      <td>301</td>\n",
       "    </tr>\n",
       "    <tr>\n",
       "      <th>F_5</th>\n",
       "      <td>301</td>\n",
       "      <td>301</td>\n",
       "    </tr>\n",
       "  </tbody>\n",
       "</table>\n",
       "</div>"
      ],
      "text/plain": [
       "Label  malicious  non-malicious\n",
       "F_1          301            301\n",
       "F_2          301            301\n",
       "F_3          301            301\n",
       "F_4          301            301\n",
       "F_5          301            301"
      ]
     },
     "execution_count": 123,
     "metadata": {},
     "output_type": "execute_result"
    }
   ],
   "source": [
    "df.groupby(['Label']).count().transpose().head()"
   ]
  },
  {
   "cell_type": "code",
   "execution_count": 124,
   "metadata": {},
   "outputs": [
    {
     "data": {
      "text/plain": [
       "<seaborn.axisgrid.FacetGrid at 0x1cdb9d867d0>"
      ]
     },
     "execution_count": 124,
     "metadata": {},
     "output_type": "execute_result"
    },
    {
     "data": {
      "image/png": "[encoded data removed]",
      "text/plain": [
       "<Figure size 500x500 with 1 Axes>"
      ]
     },
     "metadata": {},
     "output_type": "display_data"
    }
   ],
   "source": [
    "sns.displot(df['Label'])"
   ]
  }
 ],
 "metadata": {
  "kernelspec": {
   "display_name": "base",
   "language": "python",
   "name": "python3"
  },
  "language_info": {
   "codemirror_mode": {
    "name": "ipython",
    "version": 3
   },
   "file_extension": ".py",
   "mimetype": "text/x-python",
   "name": "python",
   "nbconvert_exporter": "python",
   "pygments_lexer": "ipython3",
   "version": "3.10.9"
  },
  "orig_nbformat": 4,
  "vscode": {
   "interpreter": {
    "hash": "b997315ebe549fbadd4ccdc7fde469c27a54ecc57607da8da9055d639104e416"
   }
  }
 },
 "nbformat": 4,
 "nbformat_minor": 2
}
