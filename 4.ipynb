{
 "cells": [
  {
   "cell_type": "code",
   "execution_count": 114,
   "metadata": {},
   "outputs": [],
   "source": [
    "import pandas as pd\n",
    "\n",
    "df = pd.read_csv('dataset_malwares.csv').set_index('Name')"
   ]
  },
  {
   "cell_type": "code",
   "execution_count": 128,
   "metadata": {},
   "outputs": [
    {
     "name": "stdout",
     "output_type": "stream",
     "text": [
      "#########################\n",
      "starting with 78 cols\n",
      "#########################\n",
      "Malware                      1.000000\n",
      "SectionMaxChar               0.393282\n",
      "SizeOfStackReserve           0.251791\n",
      "SuspiciousImportFunctions    0.216656\n",
      "DllCharacteristics           0.197023\n",
      "                               ...   \n",
      "SectionMaxVirtualsize             NaN\n",
      "SectionMinPhysical                NaN\n",
      "SectionMinVirtual                 NaN\n",
      "SectionMinPointerData             NaN\n",
      "SectionMainChar                   NaN\n",
      "Name: Malware, Length: 78, dtype: float64\n",
      "\n",
      "#########################\n",
      "irrelevant cols found (constants):\n",
      "#########################\n",
      "e_magic                  1\n",
      "SectionMaxEntropy        1\n",
      "SectionMaxRawsize        1\n",
      "SectionMaxVirtualsize    1\n",
      "SectionMinPhysical       1\n",
      "SectionMinVirtual        1\n",
      "SectionMinPointerData    1\n",
      "SectionMainChar          1\n",
      "dtype: int64\n",
      "#########################\n",
      "voila! set cleared. 70 cols left to work with\n",
      "#########################\n"
     ]
    }
   ],
   "source": [
    "def clean_useless_cols(df, y_label):\n",
    "    print('#########################')\n",
    "    print(f'starting with {df.columns.size} cols')\n",
    "    print('#########################')\n",
    "    print(df.corr().nlargest(df.columns.size, y_label)\n",
    "          [y_label].sort_values(ascending=0))\n",
    "    irrelevant_cols = pd.DataFrame(df.corr()[y_label]).isna()\n",
    "    ir_cols_list = irrelevant_cols[irrelevant_cols[y_label]].index\n",
    "    print('\\n#########################')\n",
    "    print('irrelevant cols found (constants):')\n",
    "    print('#########################')\n",
    "    # print()\n",
    "    print(df[ir_cols_list].nunique())\n",
    "    df.drop(ir_cols_list, axis=1, inplace=True)\n",
    "    print('#########################')\n",
    "    print(f'voila! set cleared. {df.columns.size} cols left to work with')\n",
    "    print('#########################')\n",
    "\n",
    "\n",
    "clean_useless_cols(df, 'Malware')\n"
   ]
  },
  {
   "cell_type": "code",
   "execution_count": 9,
   "metadata": {},
   "outputs": [
    {
     "data": {
      "text/plain": [
       "1    14599\n",
       "0     5012\n",
       "Name: Malware, dtype: int64"
      ]
     },
     "execution_count": 9,
     "metadata": {},
     "output_type": "execute_result"
    }
   ],
   "source": [
    "# Imbalance\n",
    "df['Malware'].value_counts()"
   ]
  }
 ],
 "metadata": {
  "kernelspec": {
   "display_name": "base",
   "language": "python",
   "name": "python3"
  },
  "language_info": {
   "codemirror_mode": {
    "name": "ipython",
    "version": 3
   },
   "file_extension": ".py",
   "mimetype": "text/x-python",
   "name": "python",
   "nbconvert_exporter": "python",
   "pygments_lexer": "ipython3",
   "version": "3.10.9"
  },
  "orig_nbformat": 4
 },
 "nbformat": 4,
 "nbformat_minor": 2
}
