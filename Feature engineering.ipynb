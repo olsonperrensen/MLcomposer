{
 "cells": [
  {
   "cell_type": "code",
   "execution_count": 15,
   "metadata": {},
   "outputs": [],
   "source": [
    "import shutil\n",
    "from zipfile import ZipFile as zf\n",
    "\n",
    "SEED = 101\n",
    "\n",
    "with zf('Clinic.zip','r') as zin:\n",
    "    zin.extractall()\n",
    "    shutil.rmtree('25yjwbphn4-1')"
   ]
  },
  {
   "cell_type": "code",
   "execution_count": 16,
   "metadata": {},
   "outputs": [],
   "source": [
    "import pandas as pd\n",
    "\n",
    "df = pd.read_csv('Dataset.csv',encoding='utf-8')\n",
    "medications = pd.read_csv('Medicationkey.csv')\n",
    "\n",
    "df.rename(columns={'ID': 'Patient'}, inplace=True)\n",
    "df.set_index('Patient',inplace=True)\n",
    "medications.set_index('Medication', inplace=True)\n",
    "\n",
    "old_columns = medications.values.flatten()\n",
    "new_columns = medications.index\n",
    "\n",
    "for old, new in zip(old_columns, new_columns):\n",
    "    df.rename(columns={old: new}, inplace=True)"
   ]
  },
  {
   "cell_type": "code",
   "execution_count": 17,
   "metadata": {},
   "outputs": [
    {
     "data": {
      "text/plain": [
       "Index(['GENDER', 'AGE', 'RACE/ETHNICITY', 'Diagnosis', 'MD', 'Assignment',\n",
       "       'EMR', 'LOS', 'RAR', 'AMITRIPTYLINE', 'ARIPIPRAZOLE', 'ASENAPINE',\n",
       "       'BUPROPION', 'CHLORPROMAZINE', 'CITALOPRAM', 'CLOMIPRAMINE',\n",
       "       'CLONIDINE', 'DOXEPIN', 'DULOXETINE', 'ESCITALOPRAM', 'FLUOXETINE',\n",
       "       'FLUPHENAZINE', 'FLUVOXAMINE', 'GUANFACINE', 'HALOPERIDOL',\n",
       "       'IMIPRAMINE', 'LITHIUM CARBONATE', 'METHYLPHENIDATE', 'MIRTAZAPINE',\n",
       "       'NORTRIPTYLINE', 'OLANZAPINE', 'PALIPERIDONE', 'PERPHENAZINE',\n",
       "       'QUETIAPINE', 'RISPERIDONE', 'SERTRALINE', 'TRAZODONE', 'VENLAFAXINE',\n",
       "       'ZIPRASIDONE', '# Psychotropic Medications', '# Administrations',\n",
       "       'Therapeutic Guidances'],\n",
       "      dtype='object')"
      ]
     },
     "execution_count": 17,
     "metadata": {},
     "output_type": "execute_result"
    }
   ],
   "source": [
    "df.columns"
   ]
  },
  {
   "cell_type": "code",
   "execution_count": 29,
   "metadata": {},
   "outputs": [
    {
     "data": {
      "text/plain": [
       "Assignment               41\n",
       "Therapeutic Guidances    41\n",
       "dtype: int64"
      ]
     },
     "execution_count": 29,
     "metadata": {},
     "output_type": "execute_result"
    }
   ],
   "source": [
    "df[df.columns[df.isnull().any()]].isnull().sum()"
   ]
  },
  {
   "cell_type": "code",
   "execution_count": 48,
   "metadata": {},
   "outputs": [],
   "source": [
    "# Fill NaN with the most frequent value for each category\n",
    "# Note: mode() is the same as doing df[c].value_counts().index[0]\n",
    "df[\"Therapeutic Guidances\"].mode().iloc[0]\n",
    "df[\"Assignment\"].fillna(df[\"Assignment\"].mode().iloc[0], inplace=True)\n",
    "df[\"Therapeutic Guidances\"].fillna(df[\"Therapeutic Guidances\"].mode().iloc[0], inplace=True)"
   ]
  },
  {
   "cell_type": "code",
   "execution_count": null,
   "metadata": {},
   "outputs": [],
   "source": []
  }
 ],
 "metadata": {
  "kernelspec": {
   "display_name": "base",
   "language": "python",
   "name": "python3"
  },
  "language_info": {
   "codemirror_mode": {
    "name": "ipython",
    "version": 3
   },
   "file_extension": ".py",
   "mimetype": "text/x-python",
   "name": "python",
   "nbconvert_exporter": "python",
   "pygments_lexer": "ipython3",
   "version": "3.10.9"
  },
  "orig_nbformat": 4
 },
 "nbformat": 4,
 "nbformat_minor": 2
}
